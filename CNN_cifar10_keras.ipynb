{
  "nbformat": 4,
  "nbformat_minor": 0,
  "metadata": {
    "colab": {
      "provenance": [],
      "gpuType": "T4"
    },
    "kernelspec": {
      "name": "python3",
      "display_name": "Python 3"
    },
    "language_info": {
      "name": "python"
    },
    "accelerator": "GPU"
  },
  "cells": [
    {
      "cell_type": "code",
      "execution_count": 1,
      "metadata": {
        "id": "47aTtYZhGuH9"
      },
      "outputs": [],
      "source": [
        "import pandas as pd\n",
        "import numpy as np\n",
        "import tensorflow as tf"
      ]
    },
    {
      "cell_type": "code",
      "source": [
        "(x_train, y_train), (x_test, y_test)= tf.keras.datasets.cifar10.load_data()"
      ],
      "metadata": {
        "id": "1WdbvyYQHm52"
      },
      "execution_count": 2,
      "outputs": []
    },
    {
      "cell_type": "code",
      "source": [
        "print(\"x_train_shape\", x_train.shape)\n",
        "print(\"x_test_shape\", x_test.shape)\n",
        "print(\"y_train_shape\", y_train.shape)\n",
        "\n",
        "print(\"y_test_shape\",y_test.shape)"
      ],
      "metadata": {
        "colab": {
          "base_uri": "https://localhost:8080/"
        },
        "id": "D2lyNjsJHqRL",
        "outputId": "3b006e98-aa56-42b4-d2d3-eb642df2c399"
      },
      "execution_count": 3,
      "outputs": [
        {
          "output_type": "stream",
          "name": "stdout",
          "text": [
            "x_train_shape (50000, 32, 32, 3)\n",
            "x_test_shape (10000, 32, 32, 3)\n",
            "y_train_shape (50000, 1)\n",
            "y_test_shape (10000, 1)\n"
          ]
        }
      ]
    },
    {
      "cell_type": "code",
      "source": [
        "import matplotlib.pyplot as plt\n"
      ],
      "metadata": {
        "id": "JjsB3oMQIlEP"
      },
      "execution_count": 4,
      "outputs": []
    },
    {
      "cell_type": "code",
      "source": [
        "index = 59\n",
        "plt.imshow(x_train[index])\n",
        "plt.title(y_train[index])\n"
      ],
      "metadata": {
        "colab": {
          "base_uri": "https://localhost:8080/",
          "height": 524
        },
        "id": "A3jN63YnI0N8",
        "outputId": "a083a296-2bc8-4157-8e4d-d1fa15e336c6"
      },
      "execution_count": 5,
      "outputs": [
        {
          "output_type": "stream",
          "name": "stderr",
          "text": [
            "/usr/local/lib/python3.10/dist-packages/matplotlib/text.py:1279: FutureWarning: elementwise comparison failed; returning scalar instead, but in the future will perform elementwise comparison\n",
            "  if s != self._text:\n"
          ]
        },
        {
          "output_type": "execute_result",
          "data": {
            "text/plain": [
              "Text(0.5, 1.0, '[3]')"
            ]
          },
          "metadata": {},
          "execution_count": 5
        },
        {
          "output_type": "display_data",
          "data": {
            "text/plain": [
              "<Figure size 640x480 with 1 Axes>"
            ],
            "image/png": "[encoded data removed]"
          },
          "metadata": {}
        }
      ]
    },
    {
      "cell_type": "code",
      "source": [
        "# x_train = x_train.reshape(50000, 3072)\n",
        "# x_test = x_test.reshape(10000, 3072)\n",
        "x_train=x_train/255\n",
        "x_test = x_test/255"
      ],
      "metadata": {
        "id": "8ICuEqxZI8C_"
      },
      "execution_count": 6,
      "outputs": []
    },
    {
      "cell_type": "code",
      "source": [
        "from tensorflow.keras.models import Sequential\n",
        "from tensorflow.keras.layers import Dense, Conv2D, MaxPooling2D, ReLU, Flatten\n",
        "\n"
      ],
      "metadata": {
        "id": "mkPkKZjJLi4K"
      },
      "execution_count": 7,
      "outputs": []
    },
    {
      "cell_type": "code",
      "source": [
        "x_train.shape"
      ],
      "metadata": {
        "colab": {
          "base_uri": "https://localhost:8080/"
        },
        "id": "m-Ml9YrNDmgH",
        "outputId": "0a3b3500-334e-46ba-8cfc-8134c9e54ee5"
      },
      "execution_count": 8,
      "outputs": [
        {
          "output_type": "execute_result",
          "data": {
            "text/plain": [
              "(50000, 32, 32, 3)"
            ]
          },
          "metadata": {},
          "execution_count": 8
        }
      ]
    },
    {
      "cell_type": "code",
      "source": [
        "model = Sequential()\n",
        "model.add(Conv2D(filters = 4, kernel_size=(3,3), strides = (1,1), padding= 'valid', activation= 'relu', input_shape= x_train.shape[1:])) # output_size = (30, 30, 4)\n",
        "model.add(Conv2D(filters = 3, kernel_size=(3,3), strides = (1,1), padding= 'valid', activation= 'relu'))                                 # (28,28,3)\n",
        "model.add(MaxPooling2D(pool_size = (2,2)))                                     # (14,14,3)\n",
        "\n",
        "model.add(Conv2D(filters = 3, kernel_size=(3,3), strides = (1,1), padding= 'valid', activation= 'relu')) # (12,12,3)\n",
        "model.add(MaxPooling2D(pool_size = (2,2)))  # (6,6,3)\n",
        "model.add(Flatten())                       # 108\n",
        "model.add(Dense(10, activation = 'softmax'))    # 10\n",
        "\n"
      ],
      "metadata": {
        "id": "johB6NVbM2Su"
      },
      "execution_count": 9,
      "outputs": []
    },
    {
      "cell_type": "code",
      "source": [
        "model.summary()"
      ],
      "metadata": {
        "colab": {
          "base_uri": "https://localhost:8080/"
        },
        "id": "ZeLmi1OXQjjs",
        "outputId": "a1a3a9fb-f639-4887-c986-c10cd4e76810"
      },
      "execution_count": 10,
      "outputs": [
        {
          "output_type": "stream",
          "name": "stdout",
          "text": [
            "Model: \"sequential\"\n",
            "_________________________________________________________________\n",
            " Layer (type)                Output Shape              Param #   \n",
            "=================================================================\n",
            " conv2d (Conv2D)             (None, 30, 30, 4)         112       \n",
            "                                                                 \n",
            " conv2d_1 (Conv2D)           (None, 28, 28, 3)         111       \n",
            "                                                                 \n",
            " max_pooling2d (MaxPooling2D  (None, 14, 14, 3)        0         \n",
            " )                                                               \n",
            "                                                                 \n",
            " conv2d_2 (Conv2D)           (None, 12, 12, 3)         84        \n",
            "                                                                 \n",
            " max_pooling2d_1 (MaxPooling  (None, 6, 6, 3)          0         \n",
            " 2D)                                                             \n",
            "                                                                 \n",
            " flatten (Flatten)           (None, 108)               0         \n",
            "                                                                 \n",
            " dense (Dense)               (None, 10)                1090      \n",
            "                                                                 \n",
            "=================================================================\n",
            "Total params: 1,397\n",
            "Trainable params: 1,397\n",
            "Non-trainable params: 0\n",
            "_________________________________________________________________\n"
          ]
        }
      ]
    },
    {
      "cell_type": "code",
      "source": [
        "model.compile(loss = 'categorical_crossentropy', optimizer = 'adam', metrics = ['accuracy'])"
      ],
      "metadata": {
        "id": "PGZ5iX1MQf1_"
      },
      "execution_count": 11,
      "outputs": []
    },
    {
      "cell_type": "code",
      "source": [
        "from sklearn.preprocessing import OneHotEncoder\n",
        "ohe = OneHotEncoder()\n",
        "y_train = ohe.fit_transform(y_train)\n",
        "y_test = ohe.transform(y_test)\n",
        "y_train = y_train.toarray()\n",
        "y_test = y_test.toarray()"
      ],
      "metadata": {
        "id": "SXSKHABwTAoF"
      },
      "execution_count": 12,
      "outputs": []
    },
    {
      "cell_type": "code",
      "source": [
        "hist = model.fit(x_train, y_train, epochs = 40, batch_size = 32, validation_data = (x_test, y_test))"
      ],
      "metadata": {
        "colab": {
          "base_uri": "https://localhost:8080/"
        },
        "id": "cWJAUWgIRRkW",
        "outputId": "5f4a5672-8863-4fbc-cb0c-f76bda3d16d3"
      },
      "execution_count": 13,
      "outputs": [
        {
          "output_type": "stream",
          "name": "stdout",
          "text": [
            "Epoch 1/40\n",
            "1563/1563 [==============================] - 14s 7ms/step - loss: 1.9304 - accuracy: 0.2920 - val_loss: 1.7343 - val_accuracy: 0.3732\n",
            "Epoch 2/40\n",
            "1563/1563 [==============================] - 13s 8ms/step - loss: 1.6786 - accuracy: 0.3928 - val_loss: 1.6410 - val_accuracy: 0.4090\n",
            "Epoch 3/40\n",
            "1563/1563 [==============================] - 8s 5ms/step - loss: 1.6058 - accuracy: 0.4205 - val_loss: 1.5888 - val_accuracy: 0.4290\n",
            "Epoch 4/40\n",
            "1563/1563 [==============================] - 7s 4ms/step - loss: 1.5622 - accuracy: 0.4353 - val_loss: 1.5696 - val_accuracy: 0.4382\n",
            "Epoch 5/40\n",
            "1563/1563 [==============================] - 7s 5ms/step - loss: 1.5332 - accuracy: 0.4469 - val_loss: 1.5133 - val_accuracy: 0.4534\n",
            "Epoch 6/40\n",
            "1563/1563 [==============================] - 8s 5ms/step - loss: 1.5145 - accuracy: 0.4567 - val_loss: 1.4993 - val_accuracy: 0.4583\n",
            "Epoch 7/40\n",
            "1563/1563 [==============================] - 7s 4ms/step - loss: 1.5014 - accuracy: 0.4608 - val_loss: 1.5063 - val_accuracy: 0.4549\n",
            "Epoch 8/40\n",
            "1563/1563 [==============================] - 7s 5ms/step - loss: 1.4877 - accuracy: 0.4678 - val_loss: 1.4853 - val_accuracy: 0.4645\n",
            "Epoch 9/40\n",
            "1563/1563 [==============================] - 7s 4ms/step - loss: 1.4779 - accuracy: 0.4699 - val_loss: 1.4807 - val_accuracy: 0.4668\n",
            "Epoch 10/40\n",
            "1563/1563 [==============================] - 7s 5ms/step - loss: 1.4692 - accuracy: 0.4741 - val_loss: 1.4908 - val_accuracy: 0.4620\n",
            "Epoch 11/40\n",
            "1563/1563 [==============================] - 7s 5ms/step - loss: 1.4613 - accuracy: 0.4773 - val_loss: 1.4658 - val_accuracy: 0.4745\n",
            "Epoch 12/40\n",
            "1563/1563 [==============================] - 7s 5ms/step - loss: 1.4534 - accuracy: 0.4817 - val_loss: 1.4471 - val_accuracy: 0.4782\n",
            "Epoch 13/40\n",
            "1563/1563 [==============================] - 7s 5ms/step - loss: 1.4467 - accuracy: 0.4832 - val_loss: 1.4524 - val_accuracy: 0.4752\n",
            "Epoch 14/40\n",
            "1563/1563 [==============================] - 7s 4ms/step - loss: 1.4392 - accuracy: 0.4871 - val_loss: 1.4493 - val_accuracy: 0.4750\n",
            "Epoch 15/40\n",
            "1563/1563 [==============================] - 8s 5ms/step - loss: 1.4340 - accuracy: 0.4895 - val_loss: 1.4383 - val_accuracy: 0.4806\n",
            "Epoch 16/40\n",
            "1563/1563 [==============================] - 7s 5ms/step - loss: 1.4240 - accuracy: 0.4918 - val_loss: 1.4427 - val_accuracy: 0.4857\n",
            "Epoch 17/40\n",
            "1563/1563 [==============================] - 7s 4ms/step - loss: 1.4189 - accuracy: 0.4954 - val_loss: 1.4510 - val_accuracy: 0.4785\n",
            "Epoch 18/40\n",
            "1563/1563 [==============================] - 8s 5ms/step - loss: 1.4136 - accuracy: 0.4962 - val_loss: 1.4404 - val_accuracy: 0.4818\n",
            "Epoch 19/40\n",
            "1563/1563 [==============================] - 7s 4ms/step - loss: 1.4066 - accuracy: 0.4985 - val_loss: 1.4020 - val_accuracy: 0.4983\n",
            "Epoch 20/40\n",
            "1563/1563 [==============================] - 8s 5ms/step - loss: 1.3980 - accuracy: 0.5027 - val_loss: 1.4302 - val_accuracy: 0.4975\n",
            "Epoch 21/40\n",
            "1563/1563 [==============================] - 8s 5ms/step - loss: 1.3926 - accuracy: 0.5054 - val_loss: 1.4008 - val_accuracy: 0.5011\n",
            "Epoch 22/40\n",
            "1563/1563 [==============================] - 8s 5ms/step - loss: 1.3879 - accuracy: 0.5064 - val_loss: 1.3854 - val_accuracy: 0.5057\n",
            "Epoch 23/40\n",
            "1563/1563 [==============================] - 8s 5ms/step - loss: 1.3820 - accuracy: 0.5107 - val_loss: 1.4042 - val_accuracy: 0.4963\n",
            "Epoch 24/40\n",
            "1563/1563 [==============================] - 7s 5ms/step - loss: 1.3744 - accuracy: 0.5132 - val_loss: 1.3749 - val_accuracy: 0.5083\n",
            "Epoch 25/40\n",
            "1563/1563 [==============================] - 8s 5ms/step - loss: 1.3711 - accuracy: 0.5168 - val_loss: 1.3814 - val_accuracy: 0.5115\n",
            "Epoch 26/40\n",
            "1563/1563 [==============================] - 8s 5ms/step - loss: 1.3686 - accuracy: 0.5174 - val_loss: 1.4222 - val_accuracy: 0.4939\n",
            "Epoch 27/40\n",
            "1563/1563 [==============================] - 8s 5ms/step - loss: 1.3649 - accuracy: 0.5152 - val_loss: 1.3868 - val_accuracy: 0.5065\n",
            "Epoch 28/40\n",
            "1563/1563 [==============================] - 8s 5ms/step - loss: 1.3592 - accuracy: 0.5211 - val_loss: 1.3669 - val_accuracy: 0.5131\n",
            "Epoch 29/40\n",
            "1563/1563 [==============================] - 8s 5ms/step - loss: 1.3612 - accuracy: 0.5187 - val_loss: 1.3674 - val_accuracy: 0.5164\n",
            "Epoch 30/40\n",
            "1563/1563 [==============================] - 7s 4ms/step - loss: 1.3540 - accuracy: 0.5235 - val_loss: 1.3664 - val_accuracy: 0.5135\n",
            "Epoch 31/40\n",
            "1563/1563 [==============================] - 8s 5ms/step - loss: 1.3519 - accuracy: 0.5240 - val_loss: 1.4083 - val_accuracy: 0.5048\n",
            "Epoch 32/40\n",
            "1563/1563 [==============================] - 8s 5ms/step - loss: 1.3504 - accuracy: 0.5248 - val_loss: 1.3630 - val_accuracy: 0.5158\n",
            "Epoch 33/40\n",
            "1563/1563 [==============================] - 8s 5ms/step - loss: 1.3486 - accuracy: 0.5236 - val_loss: 1.3592 - val_accuracy: 0.5190\n",
            "Epoch 34/40\n",
            "1563/1563 [==============================] - 8s 5ms/step - loss: 1.3460 - accuracy: 0.5267 - val_loss: 1.3898 - val_accuracy: 0.5105\n",
            "Epoch 35/40\n",
            "1563/1563 [==============================] - 7s 5ms/step - loss: 1.3466 - accuracy: 0.5263 - val_loss: 1.3521 - val_accuracy: 0.5184\n",
            "Epoch 36/40\n",
            "1563/1563 [==============================] - 7s 5ms/step - loss: 1.3410 - accuracy: 0.5276 - val_loss: 1.3577 - val_accuracy: 0.5180\n",
            "Epoch 37/40\n",
            "1563/1563 [==============================] - 8s 5ms/step - loss: 1.3408 - accuracy: 0.5291 - val_loss: 1.3612 - val_accuracy: 0.5192\n",
            "Epoch 38/40\n",
            "1563/1563 [==============================] - 7s 5ms/step - loss: 1.3403 - accuracy: 0.5287 - val_loss: 1.3596 - val_accuracy: 0.5172\n",
            "Epoch 39/40\n",
            "1563/1563 [==============================] - 7s 5ms/step - loss: 1.3407 - accuracy: 0.5282 - val_loss: 1.3725 - val_accuracy: 0.5183\n",
            "Epoch 40/40\n",
            "1563/1563 [==============================] - 7s 5ms/step - loss: 1.3405 - accuracy: 0.5292 - val_loss: 1.3536 - val_accuracy: 0.5242\n"
          ]
        }
      ]
    },
    {
      "cell_type": "code",
      "source": [],
      "metadata": {
        "id": "pgKn6ZzShmSG"
      },
      "execution_count": 13,
      "outputs": []
    },
    {
      "cell_type": "code",
      "source": [
        "y_test_pred = model.predict(x_test)"
      ],
      "metadata": {
        "colab": {
          "base_uri": "https://localhost:8080/"
        },
        "id": "W7fbxTCBReww",
        "outputId": "e625a8c3-f646-4429-9045-dffe5c5d0906"
      },
      "execution_count": 14,
      "outputs": [
        {
          "output_type": "stream",
          "name": "stdout",
          "text": [
            "313/313 [==============================] - 1s 2ms/step\n"
          ]
        }
      ]
    },
    {
      "cell_type": "code",
      "source": [
        "pred_max_index = np.argmax(y_test_pred,axis = 1)"
      ],
      "metadata": {
        "id": "dqnOhWyYcEBh"
      },
      "execution_count": 15,
      "outputs": []
    },
    {
      "cell_type": "code",
      "source": [
        "train_max_index = np.argmax(y_test, axis = 1)"
      ],
      "metadata": {
        "id": "NdzynszrdfMB"
      },
      "execution_count": 16,
      "outputs": []
    },
    {
      "cell_type": "code",
      "source": [
        "count = 0\n",
        "for i in range(len(train_max_index)):\n",
        "  if train_max_index[i] == pred_max_index[i]:\n",
        "    count+=1\n",
        "count"
      ],
      "metadata": {
        "colab": {
          "base_uri": "https://localhost:8080/"
        },
        "id": "Wy-7p38seHJV",
        "outputId": "f0efae76-45b2-4f5f-eaa2-4ff9cf2f991a"
      },
      "execution_count": 17,
      "outputs": [
        {
          "output_type": "execute_result",
          "data": {
            "text/plain": [
              "5242"
            ]
          },
          "metadata": {},
          "execution_count": 17
        }
      ]
    },
    {
      "cell_type": "code",
      "source": [
        "print(count/len(train_max_index))"
      ],
      "metadata": {
        "colab": {
          "base_uri": "https://localhost:8080/"
        },
        "id": "8n4zJSLrfSyD",
        "outputId": "20685cc2-e20f-470d-cadb-6d2051bcdc92"
      },
      "execution_count": 18,
      "outputs": [
        {
          "output_type": "stream",
          "name": "stdout",
          "text": [
            "0.5242\n"
          ]
        }
      ]
    },
    {
      "cell_type": "code",
      "source": [
        "a = train_max_index==pred_max_index\n",
        "a.sum()/len(train_max_index)"
      ],
      "metadata": {
        "colab": {
          "base_uri": "https://localhost:8080/"
        },
        "id": "N4lmZiM1f67M",
        "outputId": "23e75dcf-53eb-4ed8-da52-667a65c4e3fc"
      },
      "execution_count": 19,
      "outputs": [
        {
          "output_type": "execute_result",
          "data": {
            "text/plain": [
              "0.5242"
            ]
          },
          "metadata": {},
          "execution_count": 19
        }
      ]
    },
    {
      "cell_type": "code",
      "source": [
        "# data augumentation\n",
        "# pre trained model"
      ],
      "metadata": {
        "id": "6E4b7_c2gPp5"
      },
      "execution_count": 19,
      "outputs": []
    }
  ]
}